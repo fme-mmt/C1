{
 "cells": [
  {
   "cell_type": "code",
   "execution_count": 7,
   "metadata": {
    "collapsed": false
   },
   "outputs": [],
   "source": [
    "from sympy import  *\n",
    "x = var('x')"
   ]
  },
  {
   "cell_type": "code",
   "execution_count": 17,
   "metadata": {
    "collapsed": false
   },
   "outputs": [],
   "source": [
    "%matplotlib inline"
   ]
  },
  {
   "cell_type": "code",
   "execution_count": 8,
   "metadata": {
    "collapsed": false
   },
   "outputs": [],
   "source": [
    "p = x**5 + x**2 +1"
   ]
  },
  {
   "cell_type": "markdown",
   "metadata": {},
   "source": [
    "Considereu el polinomi $p(x) = x^{5} + x^{2} + 1$."
   ]
  },
  {
   "cell_type": "markdown",
   "metadata": {},
   "source": [
    "#### Part 1\n",
    "Sense fer cap càlcul i nomès a partir del teorema fonamental de l'àlgebra doneu fites del número d'arrels reals que té.\n",
    "\n",
    "_Solució_: Un polinomi de grau 5 té sempre 5 arrels complexes (comptades amb multiplicitat). A més $p$ té coeficients reals, amb la qual cosa sabem que si $p(z)=0$, llavors també $p(\\bar z) = 0$. Però llavors si $z$ no és una arrel real, $\\bar z$ tampoc ho és, o sigui que el nombre d'arrels no reals ha de ser sempre parell.\n",
    "\n",
    "Les oopcions són doncs:\n",
    "\n",
    "* 1 arrel real (i 2 parells de complexes conjugades)\n",
    "* 3 arrels reals (i 1 parell de complexes conjugades)\n",
    "* 5 arrels reals (i cap parell de complexes conjugades)"
   ]
  },
  {
   "cell_type": "markdown",
   "metadata": {},
   "source": [
    "#### Part 2\n",
    "Trobeu les arrels complexes de la derivada.\n",
    "\n",
    "_Solució_: Calculem-la:"
   ]
  },
  {
   "cell_type": "code",
   "execution_count": 9,
   "metadata": {
    "collapsed": false
   },
   "outputs": [
    {
     "data": {
      "text/plain": [
       "x*(5*x**3 + 2)"
      ]
     },
     "execution_count": 9,
     "metadata": {},
     "output_type": "execute_result"
    }
   ],
   "source": [
    "dp = p.diff(x).factor()\n",
    "dp"
   ]
  },
  {
   "cell_type": "markdown",
   "metadata": {},
   "source": [
    "Una és zero, les altres surten d'escriu el segon factor com $5z^3=-2$, per tant $z=\\sqrt[3]{-2/5}$.\n",
    "Escrivim en polars $-2/5 = 2/5 \\angle\\pi$, i per tant $z = \\sqrt[3]{2/5}\\angle(\\pi/3 + 2k\\pi/3)$ per a $k=0,1,2$.\n",
    "\n",
    "Observem que hi ha una altra arrel real: $z=\\sqrt[3]{2/5}\\angle\\pi = -\\sqrt[3]{2/5}$."
   ]
  },
  {
   "cell_type": "code",
   "execution_count": 10,
   "metadata": {
    "collapsed": false
   },
   "outputs": [
    {
     "data": {
      "text/plain": [
       "[(0, nan),\n",
       " (2**(1/3)*5**(2/3)/5, pi),\n",
       " (2**(1/3)*5**(1/6)*sqrt(5)/5, -pi/3),\n",
       " (2**(1/3)*5**(1/6)*sqrt(5)/5, pi/3)]"
      ]
     },
     "execution_count": 10,
     "metadata": {},
     "output_type": "execute_result"
    }
   ],
   "source": [
    "[(abs(r),arg(r)) for r in roots(dp, x)]"
   ]
  },
  {
   "cell_type": "markdown",
   "metadata": {},
   "source": [
    "#### Part 3\n",
    "Digueu quantes arrels reals té.\n",
    "\n",
    "Observem que $\\lim_{x\\to+\\infty}p(x)=+\\infty$ i $\\lim_{x\\to-\\infty}p(x)=-\\infty$.\n",
    "Això vol dir que per a $x$ prou positiva, sempre $p(x)>0$ i per a $x$ prou negativa sempre $p(x)<0$ i, llavors, pel\n",
    "teorema de _Bolzano_ hi ha almenys una arrel real.\n",
    "\n",
    "Els extrems relatius de la funció es donen quan $p'(x)=0$ i ja sabem de l'apartat d'abans que això passa a:"
   ]
  },
  {
   "cell_type": "code",
   "execution_count": 11,
   "metadata": {
    "collapsed": false
   },
   "outputs": [
    {
     "data": {
      "text/plain": [
       "[-2**(1/3)*5**(2/3)/5, 0]"
      ]
     },
     "execution_count": 11,
     "metadata": {},
     "output_type": "execute_result"
    }
   ],
   "source": [
    "pcrics = sorted([r for r in roots(dp,x) if im(r) == 0])\n",
    "pcrics"
   ]
  },
  {
   "cell_type": "markdown",
   "metadata": {},
   "source": [
    "La segona derivada ens diu que el primer correspon a un màxim relatiu i $x=0$ a un mínim relatiu:"
   ]
  },
  {
   "cell_type": "code",
   "execution_count": 13,
   "metadata": {
    "collapsed": false
   },
   "outputs": [
    {
     "data": {
      "text/plain": [
       "[-6, 2]"
      ]
     },
     "execution_count": 13,
     "metadata": {},
     "output_type": "execute_result"
    }
   ],
   "source": [
    "[p.diff(x,x).subs(x,r) for r in pcrics]"
   ]
  },
  {
   "cell_type": "markdown",
   "metadata": {},
   "source": [
    "i els valors de $p$ en aquests punts són:"
   ]
  },
  {
   "cell_type": "code",
   "execution_count": 15,
   "metadata": {
    "collapsed": false
   },
   "outputs": [
    {
     "data": {
      "text/plain": [
       "[1.3257301139913888, 1.0]"
      ]
     },
     "execution_count": 15,
     "metadata": {},
     "output_type": "execute_result"
    }
   ],
   "source": [
    "[float(p.subs(x,r)) for r in pcrics]"
   ]
  },
  {
   "cell_type": "markdown",
   "metadata": {},
   "source": [
    "Això vol dir que $p$ té una arrel abans de $x=-\\sqrt[3]{2/5}$ i fins aquell moment és creixent.\n",
    "Des d'aquest punt fins a $x=0$ és estrictament decreixent, però encara positiva, per tant no hi ha cap arrel més.\n",
    "A partir de $x=0$ és estrictament creixent i per tant $p(x)>1$ si $x>0$. O sigui que només hi ha una arrel."
   ]
  },
  {
   "cell_type": "markdown",
   "metadata": {},
   "source": [
    "#### Part 4\n",
    "Interval fitat més gran on $p$ és injectiva\n",
    "\n",
    "Al primer i tercer tram $p$ és estrictament creixent però els no són fitats.\n",
    "\n",
    "En canvi el tram $[-\\sqrt[3]{2/5}, 0]$ és fitat i $p$ estrictament decreixent, per tant injectiva."
   ]
  },
  {
   "cell_type": "code",
   "execution_count": 47,
   "metadata": {
    "collapsed": false
   },
   "outputs": [
    {
     "data": {
      "image/png": "[encoded data removed]",
      "text/plain": [
       "<matplotlib.figure.Figure at 0x10b4754d0>"
      ]
     },
     "metadata": {},
     "output_type": "display_data"
    }
   ],
   "source": [
    "plot(p, (x,-1.5,1.5));"
   ]
  },
  {
   "cell_type": "markdown",
   "metadata": {},
   "source": [
    "#### Part 5\n",
    "Si volem aproximar $p$ amb un paràbola prop de $x=1$, quina hauria de ser? \n",
    "\n",
    "_Solució_: Haurà de ser el _polinomi de Taylor_ de grau 2 de $p$ al punt $a=1$:"
   ]
  },
  {
   "cell_type": "code",
   "execution_count": 19,
   "metadata": {
    "collapsed": false
   },
   "outputs": [
    {
     "data": {
      "text/plain": [
       "7*x + 11*(x - 1)**2 - 4"
      ]
     },
     "execution_count": 19,
     "metadata": {},
     "output_type": "execute_result"
    }
   ],
   "source": [
    "tp = list(series(p,x,1,n=None))\n",
    "t2 = sum(tp[:3])\n",
    "t2"
   ]
  },
  {
   "cell_type": "code",
   "execution_count": 46,
   "metadata": {
    "collapsed": false
   },
   "outputs": [
    {
     "data": {
      "image/png": "[encoded data removed]",
      "text/plain": [
       "<matplotlib.figure.Figure at 0x10b3856d0>"
      ]
     },
     "metadata": {},
     "output_type": "display_data"
    }
   ],
   "source": [
    "plot(p, t2, (x,0.5, 1.5));"
   ]
  },
  {
   "cell_type": "markdown",
   "metadata": {},
   "source": [
    "#### Part 6\n",
    "Doneu una fita de l'error per a $1/2<x<3/2$.\n",
    "\n",
    "El _reste de Lagrange_ depén de la tercera derivada:"
   ]
  },
  {
   "cell_type": "code",
   "execution_count": 26,
   "metadata": {
    "collapsed": false
   },
   "outputs": [
    {
     "data": {
      "text/plain": [
       "10*c**2*(x - 1)**3"
      ]
     },
     "execution_count": 26,
     "metadata": {},
     "output_type": "execute_result"
    }
   ],
   "source": [
    "c = var('c', real=True)\n",
    "from math import factorial\n",
    "p.diff(x,x,x).subs(x,c)/factorial(3)*(x-1)**3"
   ]
  },
  {
   "cell_type": "markdown",
   "metadata": {},
   "source": [
    "Com que $c\\in(1,x)$ i $x\\in(1/2,3/2)$, deduïm que també $c\\in(1/2,3/2)$, $c\\mapsto c^2$ és una funció creixent en aquest tram, és a dir que el seu valor màxim és a $c=3/2$.\n",
    "Per altra banda $|x-1|<1/2$, o sigui que l'eror màxim seria:"
   ]
  },
  {
   "cell_type": "code",
   "execution_count": 29,
   "metadata": {
    "collapsed": false
   },
   "outputs": [
    {
     "data": {
      "text/plain": [
       "45/16"
      ]
     },
     "execution_count": 29,
     "metadata": {},
     "output_type": "execute_result"
    }
   ],
   "source": [
    "r32 = Rational(3,2)\n",
    "_.subs({c: r32, x:r32})\n"
   ]
  },
  {
   "cell_type": "markdown",
   "metadata": {},
   "source": [
    "#### Part 7\n",
    "Trobeu un interval de mida 1 que contingui una arrel real de $p$. Calculeu-la amb un error màxim de 0.01\n",
    "\n",
    "Sabem que l'arrel és abans de:"
   ]
  },
  {
   "cell_type": "code",
   "execution_count": 32,
   "metadata": {
    "collapsed": false
   },
   "outputs": [
    {
     "data": {
      "text/plain": [
       "-0.7368062997280773"
      ]
     },
     "execution_count": 32,
     "metadata": {},
     "output_type": "execute_result"
    }
   ],
   "source": [
    "float(-(Rational(2,5))**Rational(1,3))"
   ]
  },
  {
   "cell_type": "code",
   "execution_count": 35,
   "metadata": {
    "collapsed": false
   },
   "outputs": [
    {
     "data": {
      "text/plain": [
       "[-27, 1, 1]"
      ]
     },
     "execution_count": 35,
     "metadata": {},
     "output_type": "execute_result"
    }
   ],
   "source": [
    "[p.subs(x,v) for v in (-2,-1,0)]"
   ]
  },
  {
   "cell_type": "markdown",
   "metadata": {},
   "source": [
    "A l'interval $[-2,-1]$ i ha l'arrel.\n",
    "Bisectem aquest interval:"
   ]
  },
  {
   "cell_type": "code",
   "execution_count": 37,
   "metadata": {
    "collapsed": true
   },
   "outputs": [],
   "source": [
    "def bisect(f, iv):\n",
    "    a,b = iv\n",
    "    assert f(a) * f(b) < 0\n",
    "    c = (a + b)/2\n",
    "    if f (c) == 0:\n",
    "        return c\n",
    "    elif f(c) * f(a) < 0:\n",
    "        return (a,c)\n",
    "    else:\n",
    "        return (c,b)"
   ]
  },
  {
   "cell_type": "code",
   "execution_count": 39,
   "metadata": {
    "collapsed": false
   },
   "outputs": [
    {
     "data": {
      "text/plain": [
       "(-1.203125, -1.1875)"
      ]
     },
     "execution_count": 39,
     "metadata": {},
     "output_type": "execute_result"
    }
   ],
   "source": [
    "iv = (-2.,-1.)\n",
    "while iv[1]-iv[0] >= 2e-2:\n",
    "    iv = bisect(lambda t: p.subs(x,t), iv)\n",
    "iv"
   ]
  },
  {
   "cell_type": "markdown",
   "metadata": {},
   "source": [
    "Per tant donem el valor aproximat:"
   ]
  },
  {
   "cell_type": "code",
   "execution_count": 41,
   "metadata": {
    "collapsed": false
   },
   "outputs": [
    {
     "data": {
      "text/plain": [
       "-1.1953125"
      ]
     },
     "execution_count": 41,
     "metadata": {},
     "output_type": "execute_result"
    }
   ],
   "source": [
    "c = (iv[0]+ iv[1])/2; c"
   ]
  },
  {
   "cell_type": "code",
   "execution_count": 43,
   "metadata": {
    "collapsed": false
   },
   "outputs": [
    {
     "data": {
      "text/plain": [
       "(-0.0113262345839757, 0.0652433819639620)"
      ]
     },
     "execution_count": 43,
     "metadata": {},
     "output_type": "execute_result"
    }
   ],
   "source": [
    "p.subs(x, c), p.subs(x, c+1e-2)"
   ]
  },
  {
   "cell_type": "markdown",
   "metadata": {},
   "source": [
    "Observem que entre $c$ i $c + 10^{-2}$, $p$ canvia de signe. Això vol dir que la veritable arrel està en aquest interval."
   ]
  }
 ],
 "metadata": {
  "kernelspec": {
   "display_name": "Python 2",
   "language": "python",
   "name": "python2"
  },
  "language_info": {
   "codemirror_mode": {
    "name": "ipython",
    "version": 2
   },
   "file_extension": ".py",
   "mimetype": "text/x-python",
   "name": "python",
   "nbconvert_exporter": "python",
   "pygments_lexer": "ipython2",
   "version": "2.7.10"
  }
 },
 "nbformat": 4,
 "nbformat_minor": 0
}
